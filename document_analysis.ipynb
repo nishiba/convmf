{
 "cells": [
  {
   "cell_type": "code",
   "execution_count": 4,
   "metadata": {
    "collapsed": true
   },
   "outputs": [],
   "source": [
    "import os\n",
    "\n",
    "import numpy as np\n",
    "import pandas as pd\n",
    "from gensim.corpora.dictionary import Dictionary\n",
    "from sklearn.model_selection import train_test_split\n",
    "from sklearn.utils import shuffle\n",
    "import ast"
   ]
  },
  {
   "cell_type": "code",
   "execution_count": 5,
   "metadata": {},
   "outputs": [],
   "source": [
    "descriptions = pd.read_csv(os.path.join('data', 'descriptions.csv')).rename(columns={'movie': 'item'})"
   ]
  },
  {
   "cell_type": "code",
   "execution_count": 14,
   "metadata": {},
   "outputs": [
    {
     "ename": "AttributeError",
     "evalue": "'DataFrame' object has no attribute 'haad'",
     "traceback": [
      "\u001b[0;31m---------------------------------------------------------------------------\u001b[0m",
      "\u001b[0;31mAttributeError\u001b[0m                            Traceback (most recent call last)",
      "\u001b[0;32m<ipython-input-14-4779662a9655>\u001b[0m in \u001b[0;36m<module>\u001b[0;34m()\u001b[0m\n\u001b[0;32m----> 1\u001b[0;31m \u001b[0mdescriptions\u001b[0m\u001b[0;34m.\u001b[0m\u001b[0mhaad\u001b[0m\u001b[0;34m\u001b[0m\u001b[0m\n\u001b[0m",
      "\u001b[0;32m~/Documents/work/04_meta_learning/convmf/venv/lib/python3.6/site-packages/pandas/core/generic.py\u001b[0m in \u001b[0;36m__getattr__\u001b[0;34m(self, name)\u001b[0m\n\u001b[1;32m   3612\u001b[0m             \u001b[0;32mif\u001b[0m \u001b[0mname\u001b[0m \u001b[0;32min\u001b[0m \u001b[0mself\u001b[0m\u001b[0;34m.\u001b[0m\u001b[0m_info_axis\u001b[0m\u001b[0;34m:\u001b[0m\u001b[0;34m\u001b[0m\u001b[0m\n\u001b[1;32m   3613\u001b[0m                 \u001b[0;32mreturn\u001b[0m \u001b[0mself\u001b[0m\u001b[0;34m[\u001b[0m\u001b[0mname\u001b[0m\u001b[0;34m]\u001b[0m\u001b[0;34m\u001b[0m\u001b[0m\n\u001b[0;32m-> 3614\u001b[0;31m             \u001b[0;32mreturn\u001b[0m \u001b[0mobject\u001b[0m\u001b[0;34m.\u001b[0m\u001b[0m__getattribute__\u001b[0m\u001b[0;34m(\u001b[0m\u001b[0mself\u001b[0m\u001b[0;34m,\u001b[0m \u001b[0mname\u001b[0m\u001b[0;34m)\u001b[0m\u001b[0;34m\u001b[0m\u001b[0m\n\u001b[0m\u001b[1;32m   3615\u001b[0m \u001b[0;34m\u001b[0m\u001b[0m\n\u001b[1;32m   3616\u001b[0m     \u001b[0;32mdef\u001b[0m \u001b[0m__setattr__\u001b[0m\u001b[0;34m(\u001b[0m\u001b[0mself\u001b[0m\u001b[0;34m,\u001b[0m \u001b[0mname\u001b[0m\u001b[0;34m,\u001b[0m \u001b[0mvalue\u001b[0m\u001b[0;34m)\u001b[0m\u001b[0;34m:\u001b[0m\u001b[0;34m\u001b[0m\u001b[0m\n",
      "\u001b[0;31mAttributeError\u001b[0m: 'DataFrame' object has no attribute 'haad'"
     ],
     "output_type": "error"
    }
   ],
   "source": [
    "descriptions.haad"
   ]
  },
  {
   "cell_type": "code",
   "execution_count": 138,
   "metadata": {},
   "outputs": [],
   "source": [
    "def make_item_descriptions(max_sentence_length=100):\n",
    "    descriptions = pd.read_csv(os.path.join('data', 'descriptions.csv')).rename(columns={'movie': 'item'})\n",
    "    descriptions['crew'] = descriptions['crew'].apply(lambda x: ast.literal_eval(x))\n",
    "    descriptions['cast'] = descriptions['cast'].apply(lambda x: ast.literal_eval(x))\n",
    "    texts = descriptions.description\n",
    "    texts = texts.apply(lambda x: x.strip().split())\n",
    "    descriptions['description'] = [['crew'] + crew + ['cast'] + cast + ['text'] + text\n",
    "                                   for crew, cast, text in zip(descriptions.crew, descriptions.cast, texts)]\n",
    "    texts = descriptions.description\n",
    "    dictionary = Dictionary(texts.values)\n",
    "    eos_id = len(dictionary.keys())\n",
    "\n",
    "    # to index list\n",
    "    texts = texts.apply(lambda x: dictionary.doc2idx(x, unknown_word_index=eos_id))\n",
    "    texts = texts.apply(lambda x: np.array([a for a in x if a != eos_id]))\n",
    "    max_sentence_length = max(texts.apply(len)) if max_sentence_length is None else min(max(texts.apply(len)), max_sentence_length)\n",
    "\n",
    "    # padding\n",
    "    texts = texts.apply(lambda x: x[:max_sentence_length])\n",
    "    texts = texts.apply(lambda x: np.pad(x, (0, max_sentence_length - len(x)), 'constant', constant_values=(0, eos_id)))\n",
    "\n",
    "    # change types\n",
    "    texts = texts.apply(lambda x: x.tolist())\n",
    "    descriptions.id = descriptions.id.astype(np.int32)\n",
    "\n",
    "    return np.array(descriptions.id.values), np.array(list(texts.values), dtype=np.int32), len(dictionary.keys()) + 1\n"
   ]
  },
  {
   "cell_type": "code",
   "execution_count": 139,
   "metadata": {},
   "outputs": [],
   "source": [
    "ids, texts, n_word = make_item_descriptions()"
   ]
  },
  {
   "cell_type": "code",
   "execution_count": 141,
   "metadata": {},
   "outputs": [
    {
     "data": {
      "text/plain": [
       "array([[   35,     6,    11, ..., 38545, 38545, 38545],\n       [   35,    57,    61, ..., 38545, 38545, 38545],\n       [   35,   128,   118, ..., 38545, 38545, 38545],\n       ...,\n       [   35, 38490, 38490, ..., 10494,    79, 38137],\n       [   35, 38528, 38528, ..., 38545, 38545, 38545],\n       [   35, 32051, 38533, ..., 38545, 38545, 38545]], dtype=int32)"
      ]
     },
     "execution_count": 141,
     "metadata": {},
     "output_type": "execute_result"
    }
   ],
   "source": [
    "np.array(list(texts), dtype=np.int32)"
   ]
  },
  {
   "cell_type": "code",
   "execution_count": 19,
   "metadata": {},
   "outputs": [
    {
     "data": {
      "text/plain": [
       "count    2243.000000\nmean       51.283103\nstd        25.754721\nmin         7.000000\n25%        31.000000\n50%        49.000000\n75%        65.000000\nmax       174.000000\nName: description, dtype: float64"
      ]
     },
     "execution_count": 19,
     "metadata": {},
     "output_type": "execute_result"
    }
   ],
   "source": [
    "ls.describe()"
   ]
  },
  {
   "cell_type": "code",
   "execution_count": 22,
   "metadata": {},
   "outputs": [],
   "source": [
    "movie_df = pd.read_csv(os.path.join('data', 'tmdb-5000-movie-dataset', 'tmdb_5000_movies.csv'))"
   ]
  },
  {
   "cell_type": "code",
   "execution_count": 24,
   "metadata": {
    "collapsed": false
   },
   "outputs": [
    {
     "data": {
      "text/plain": [
       "Index(['budget', 'genres', 'homepage', 'id', 'keywords', 'original_language',\n       'original_title', 'overview', 'popularity', 'production_companies',\n       'production_countries', 'release_date', 'revenue', 'runtime',\n       'spoken_languages', 'status', 'tagline', 'title', 'vote_average',\n       'vote_count'],\n      dtype='object')"
      ]
     },
     "execution_count": 24,
     "metadata": {},
     "output_type": "execute_result"
    }
   ],
   "source": [
    "movie_df.columns"
   ]
  },
  {
   "cell_type": "code",
   "execution_count": 25,
   "metadata": {},
   "outputs": [
    {
     "data": {
      "text/plain": [
       "0    [{\"id\": 1463, \"name\": \"culture clash\"}, {\"id\":...\n1    [{\"id\": 270, \"name\": \"ocean\"}, {\"id\": 726, \"na...\n2    [{\"id\": 470, \"name\": \"spy\"}, {\"id\": 818, \"name...\n3    [{\"id\": 849, \"name\": \"dc comics\"}, {\"id\": 853,...\n4    [{\"id\": 818, \"name\": \"based on novel\"}, {\"id\":...\nName: keywords, dtype: object"
      ]
     },
     "execution_count": 25,
     "metadata": {},
     "output_type": "execute_result"
    }
   ],
   "source": [
    "movie_df['keywords'].head()"
   ]
  },
  {
   "cell_type": "code",
   "execution_count": 51,
   "metadata": {},
   "outputs": [],
   "source": [
    "credit_df = pd.read_csv(os.path.join('data', 'tmdb-5000-movie-dataset', 'tmdb_5000_credits.csv'))"
   ]
  },
  {
   "cell_type": "code",
   "execution_count": 52,
   "metadata": {
    "collapsed": false
   },
   "outputs": [],
   "source": [
    "credit_df = credit_df.head()"
   ]
  },
  {
   "cell_type": "code",
   "execution_count": 70,
   "metadata": {},
   "outputs": [
    {
     "data": {
      "text/plain": [
       "array([list(['Stephen E. Rivkin', 'Rick Carter', 'Christopher Boyes', 'Christopher Boyes', 'Mali Finn', 'James Horner', 'James Cameron', 'James Cameron', 'James Cameron', 'James Cameron']),\n       list(['Dariusz Wolski', 'Gore Verbinski', 'Jerry Bruckheimer', 'Ted Elliott', 'Terry Rossio', 'Stephen E. Rivkin', 'Craig Wood', 'Hans Zimmer', 'Mike Stenson', 'Eric McLeod']),\n       list(['Thomas Newman', 'Sam Mendes', 'Anna Pinnock', 'John Logan', 'John Logan', 'Dennis Gassner', 'Ian Fleming', 'Lee Smith', 'Bill Bernstein', 'Daniel Craig']),\n       list(['Hans Zimmer', 'Charles Roven', 'Christopher Nolan', 'Christopher Nolan', 'Christopher Nolan', 'Christopher Nolan', 'Jonathan Nolan', 'Emma Thomas', 'Wally Pfister', 'Wally Pfister']),\n       list(['Andrew Stanton', 'Andrew Stanton', 'John Lasseter', 'Colin Wilson', 'Gail Stevens', 'Tom Johnson', 'Eric Zumbrunnen', 'Michael Silvers', 'Juan Peralta', 'Paul Gooch'])],\n      dtype=object)"
      ]
     },
     "execution_count": 70,
     "metadata": {},
     "output_type": "execute_result"
    }
   ],
   "source": [
    "import json\n",
    "credit_df['crew'] = credit_df['crew'].apply(json.loads)\n",
    "credit_df['crew'].apply(lambda xs: [x['name'] for x in xs[:10]]).values"
   ]
  },
  {
   "cell_type": "code",
   "execution_count": 69,
   "metadata": {},
   "outputs": [
    {
     "data": {
      "text/plain": [
       "{'credit_id': '52fe48009251416c750aca23',\n 'department': 'Editing',\n 'gender': 0,\n 'id': 1721,\n 'job': 'Editor',\n 'name': 'Stephen E. Rivkin'}"
      ]
     },
     "execution_count": 69,
     "metadata": {},
     "output_type": "execute_result"
    }
   ],
   "source": [
    "credit_df['crew'].values[0][0]"
   ]
  },
  {
   "cell_type": "code",
   "execution_count": 64,
   "metadata": {
    "collapsed": true
   },
   "outputs": [
    {
     "data": {
      "text/plain": [
       "Index(['movie_id', 'title', 'cast', 'crew'], dtype='object')"
      ]
     },
     "execution_count": 64,
     "metadata": {},
     "output_type": "execute_result"
    }
   ],
   "source": [
    "credit_df.columns"
   ]
  },
  {
   "cell_type": "code",
   "execution_count": null,
   "metadata": {},
   "outputs": [],
   "source": []
  }
 ],
 "metadata": {
  "kernelspec": {
   "display_name": "Python 2",
   "language": "python",
   "name": "python2"
  },
  "language_info": {
   "codemirror_mode": {
    "name": "ipython",
    "version": 2
   },
   "file_extension": ".py",
   "mimetype": "text/x-python",
   "name": "python",
   "nbconvert_exporter": "python",
   "pygments_lexer": "ipython2",
   "version": "2.7.6"
  }
 },
 "nbformat": 4,
 "nbformat_minor": 0
}
